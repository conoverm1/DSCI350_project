{
 "cells": [
  {
   "cell_type": "code",
   "execution_count": 1,
   "id": "d2620403-2af5-4ec4-ab4c-30a1800a4ec7",
   "metadata": {},
   "outputs": [],
   "source": [
    "import pandas as pd\n",
    "import numpy as np\n",
    "from sklearn.model_selection import train_test_split, cross_val_score, GridSearchCV\n",
    "from sklearn.linear_model import LinearRegression\n",
    "from sklearn.ensemble import RandomForestRegressor\n",
    "from sklearn.tree import DecisionTreeRegressor\n",
    "from sklearn.preprocessing import OneHotEncoder, StandardScaler\n",
    "from sklearn.metrics import mean_squared_error, mean_absolute_error\n",
    "from sklearn.pipeline import Pipeline\n",
    "from sklearn.compose import ColumnTransformer"
   ]
  },
  {
   "cell_type": "markdown",
   "id": "9492c534-d51d-41ff-8e7c-91a0bc4db8bf",
   "metadata": {},
   "source": [
    "Loading in the Dataset"
   ]
  },
  {
   "cell_type": "code",
   "execution_count": 2,
   "id": "20a9b3ca-6229-43cb-a87c-7c3d2b968e6c",
   "metadata": {},
   "outputs": [],
   "source": [
    "master = pd.read_csv(\"master.csv\")\n",
    "\n",
    "master = master.dropna(subset =['AAV'])\n"
   ]
  },
  {
   "cell_type": "markdown",
   "id": "51e16b90-1109-4251-96cb-2478d2ea1e02",
   "metadata": {},
   "source": [
    "Removing columns we don't want and performing train test split"
   ]
  },
  {
   "cell_type": "code",
   "execution_count": 13,
   "id": "4440560f-241c-4b33-907c-65dace7d5345",
   "metadata": {},
   "outputs": [
    {
     "name": "stdout",
     "output_type": "stream",
     "text": [
      "<class 'pandas.core.frame.DataFrame'>\n",
      "Index: 584 entries, 0 to 2166\n",
      "Data columns (total 42 columns):\n",
      " #   Column    Non-Null Count  Dtype  \n",
      "---  ------    --------------  -----  \n",
      " 0   PA        584 non-null    int64  \n",
      " 1   BB%       584 non-null    float64\n",
      " 2   K%        584 non-null    float64\n",
      " 3   BB/K      584 non-null    float64\n",
      " 4   AVG       584 non-null    float64\n",
      " 5   OBP       584 non-null    float64\n",
      " 6   SLG       584 non-null    float64\n",
      " 7   OPS       584 non-null    float64\n",
      " 8   ISO       584 non-null    float64\n",
      " 9   Spd       584 non-null    float64\n",
      " 10  BABIP     584 non-null    float64\n",
      " 11  UBR       584 non-null    float64\n",
      " 12  wGDP      584 non-null    float64\n",
      " 13  wSB       584 non-null    float64\n",
      " 14  wRC       584 non-null    float64\n",
      " 15  wRAA      584 non-null    float64\n",
      " 16  wOBA      584 non-null    float64\n",
      " 17  wRC+      584 non-null    float64\n",
      " 18  Events    584 non-null    int64  \n",
      " 19  EV        584 non-null    float64\n",
      " 20  maxEV     584 non-null    float64\n",
      " 21  LA        584 non-null    float64\n",
      " 22  Barrels   584 non-null    int64  \n",
      " 23  Barrel%   584 non-null    float64\n",
      " 24  HardHit   584 non-null    int64  \n",
      " 25  HardHit%  584 non-null    float64\n",
      " 26  GB/FB     584 non-null    float64\n",
      " 27  LD%       584 non-null    float64\n",
      " 28  GB%       584 non-null    float64\n",
      " 29  FB%       584 non-null    float64\n",
      " 30  IFFB%     584 non-null    float64\n",
      " 31  HR/FB     584 non-null    float64\n",
      " 32  IFH       584 non-null    int64  \n",
      " 33  IFH%      584 non-null    float64\n",
      " 34  BUH       584 non-null    int64  \n",
      " 35  BUH%      584 non-null    float64\n",
      " 36  Pull%     584 non-null    float64\n",
      " 37  Cent%     584 non-null    float64\n",
      " 38  Oppo%     584 non-null    float64\n",
      " 39  Soft%     584 non-null    float64\n",
      " 40  Med%      584 non-null    float64\n",
      " 41  Hard%     584 non-null    float64\n",
      "dtypes: float64(36), int64(6)\n",
      "memory usage: 196.2 KB\n"
     ]
    }
   ],
   "source": [
    "X = master.drop(columns = ['AAV', 'Season', 'fullName', 'Age 7/1/21', 'Age 7/1/22', 'Age 7/1/23', 'Age 7/1/24',\n",
    "                          'Details', 'Baseball Ops      head / club GM', 'Club Owner', 'Player Agent', 'Option',\n",
    "                          'Term', 'Guarantee', 'Years', 'New Club', 'Old    Club', 'Qual    Offer', 'nameFirst',\n",
    "                          'nameLast', 'MLBAMID', 'PlayerId', 'NameASCII', 'Team', \"Pos'n\", 'XBR', 'Age'])\n",
    "\n",
    "y = master['AAV']\n",
    "\n",
    "X.info()\n",
    "\n",
    "X_train, X_test, y_train, y_test = train_test_split(X, y, test_size = 0.2)"
   ]
  },
  {
   "cell_type": "markdown",
   "id": "80792435-20c1-4a61-bdc3-e94eb3221da1",
   "metadata": {},
   "source": [
    "Setting up the preprocessor. Only numeric columns in the models, so just standard scaling needs to be done."
   ]
  },
  {
   "cell_type": "code",
   "execution_count": 4,
   "id": "a2c7dc1a-f579-4df7-b801-c03bf1176ac1",
   "metadata": {},
   "outputs": [],
   "source": [
    "numerical_cols = X.columns.values\n",
    "\n",
    "preprocessor = ColumnTransformer(\n",
    "    transformers=[\n",
    "        ('numerical', StandardScaler(), numerical_cols)\n",
    "    ]\n",
    ")"
   ]
  },
  {
   "cell_type": "markdown",
   "id": "73bcd145-455b-48e7-a62e-2715d1915cde",
   "metadata": {},
   "source": [
    "Start out with a multiple linear regression, using mean absolute error as the model evaluation metric."
   ]
  },
  {
   "cell_type": "code",
   "execution_count": 5,
   "id": "6fec6269-ca44-40cd-a7ca-d750f08a2844",
   "metadata": {},
   "outputs": [
    {
     "name": "stdout",
     "output_type": "stream",
     "text": [
      "Linear Regression -- Mean absolute error: 5796331.8740702635\n"
     ]
    }
   ],
   "source": [
    "# Linear Regression Pipeline\n",
    "\n",
    "LR_pipeline = Pipeline(steps=[\n",
    "    ('preprocessor', preprocessor),\n",
    "    ('regressor', LinearRegression())\n",
    "])\n",
    "\n",
    "LR_pipeline.fit(X_train, y_train)\n",
    "\n",
    "FA_pred = LR_pipeline.predict(X_test)\n",
    "\n",
    "mae = mean_absolute_error(y_test, FA_pred)\n",
    "print('Linear Regression -- Mean absolute error:', mae)"
   ]
  },
  {
   "cell_type": "markdown",
   "id": "5982abf9-f8f7-47d3-9040-e7c7aba63247",
   "metadata": {},
   "source": [
    "\n",
    "-----------------------------------------------------------\n",
    "\n",
    "Random Forest\n",
    "\n"
   ]
  },
  {
   "cell_type": "code",
   "execution_count": 6,
   "id": "ccd9c3ba-1ac2-4c70-9cf2-0670b8213024",
   "metadata": {},
   "outputs": [
    {
     "data": {
      "text/plain": [
       "np.float64(5615637.100046443)"
      ]
     },
     "execution_count": 6,
     "metadata": {},
     "output_type": "execute_result"
    }
   ],
   "source": [
    "rf_scores = cross_val_score(RandomForestRegressor(), X_train, y_train, cv = 5, scoring = 'neg_mean_absolute_error')\n",
    "-rf_scores\n",
    "np.mean(-rf_scores)"
   ]
  },
  {
   "cell_type": "code",
   "execution_count": 7,
   "id": "c7d7512e-2b8b-47b0-a64f-ef421f0acbfd",
   "metadata": {},
   "outputs": [
    {
     "name": "stdout",
     "output_type": "stream",
     "text": [
      "Random Forest Regressor -- Mean absolute error: 5671590.856752137\n"
     ]
    }
   ],
   "source": [
    "RF_pipeline = Pipeline(steps=[\n",
    "    ('preprocessor', preprocessor),\n",
    "    ('random forest', RandomForestRegressor())\n",
    "])\n",
    "\n",
    "RF_pipeline.fit(X_train, y_train)\n",
    "\n",
    "FA_pred = RF_pipeline.predict(X_test)\n",
    "\n",
    "mae = mean_absolute_error(y_test, FA_pred)\n",
    "print('Random Forest Regressor -- Mean absolute error:', mae)"
   ]
  },
  {
   "cell_type": "markdown",
   "id": "41f7cfe9-0680-4534-a909-c82b7ad80ef0",
   "metadata": {},
   "source": [
    "\n",
    "------------------------------------------------------------------\n",
    "\n",
    "Random Forest Hyperparameter Grid Search:"
   ]
  },
  {
   "cell_type": "code",
   "execution_count": 28,
   "id": "3e1e0382-f484-4cb9-8c81-69b51e188f17",
   "metadata": {},
   "outputs": [
    {
     "data": {
      "text/plain": [
       "{'max_depth': None, 'min_samples_split': 2, 'n_estimators': 200}"
      ]
     },
     "execution_count": 28,
     "metadata": {},
     "output_type": "execute_result"
    }
   ],
   "source": [
    "rf_param_grid = {\n",
    "    'n_estimators': [100, 200, 300],\n",
    "    'max_depth': [None, 10, 20, 30],\n",
    "    'min_samples_split': [2, 5, 10]\n",
    "}\n",
    "\n",
    "grid_search = GridSearchCV(RandomForestRegressor(), rf_param_grid, scoring = 'neg_mean_absolute_error')\n",
    "grid_search.fit(X_train, y_train)\n",
    "grid_search.best_params_"
   ]
  },
  {
   "cell_type": "markdown",
   "id": "c51e80ed-9b2c-4a12-8e33-608617d07841",
   "metadata": {},
   "source": [
    "New Random Forest Model with tuned hyperparameters:"
   ]
  },
  {
   "cell_type": "code",
   "execution_count": 8,
   "id": "3e55ace7-5aab-4f5a-a9c0-c16f31e19c99",
   "metadata": {},
   "outputs": [
    {
     "name": "stdout",
     "output_type": "stream",
     "text": [
      "Random Forest Regressor -- Mean absolute error: 5616345.140512821\n"
     ]
    }
   ],
   "source": [
    "RF_pipeline = Pipeline(steps=[\n",
    "    ('preprocessor', preprocessor),\n",
    "    ('random forest', RandomForestRegressor(n_estimators = 200, max_depth = None, min_samples_split = 2))\n",
    "])\n",
    "\n",
    "RF_pipeline.fit(X_train, y_train)\n",
    "\n",
    "FA_pred = RF_pipeline.predict(X_test)\n",
    "\n",
    "mae = mean_absolute_error(y_test, FA_pred)\n",
    "print('Random Forest Regressor -- Mean absolute error:', mae)"
   ]
  },
  {
   "cell_type": "markdown",
   "id": "5f5dd3af-9112-48b1-be54-c67ef22a0d76",
   "metadata": {},
   "source": [
    "Mean absolute error has still been pretty bad for the models, so we're gonna look at the importance of each feature and remove some as necessary"
   ]
  },
  {
   "cell_type": "code",
   "execution_count": 18,
   "id": "e520ced3-7797-426a-b681-38ee61e73fb0",
   "metadata": {},
   "outputs": [
    {
     "name": "stdout",
     "output_type": "stream",
     "text": [
      "     Feature  Importance\n",
      "15      wRAA    0.138422\n",
      "17      wRC+    0.074774\n",
      "20     maxEV    0.072046\n",
      "22   Barrels    0.055725\n",
      "39     Soft%    0.054031\n",
      "7        OPS    0.047747\n",
      "31     HR/FB    0.046887\n",
      "9        Spd    0.044243\n",
      "14       wRC    0.039701\n",
      "19        EV    0.034163\n",
      "16      wOBA    0.032706\n",
      "33      IFH%    0.027054\n",
      "25  HardHit%    0.021936\n",
      "11       UBR    0.021627\n",
      "12      wGDP    0.021415\n",
      "36     Pull%    0.018380\n",
      "2         K%    0.015375\n",
      "41     Hard%    0.015245\n",
      "0         PA    0.014893\n",
      "38     Oppo%    0.013608\n",
      "13       wSB    0.013423\n",
      "24   HardHit    0.012963\n",
      "1        BB%    0.012281\n",
      "5        OBP    0.011910\n",
      "23   Barrel%    0.011377\n",
      "3       BB/K    0.011073\n",
      "27       LD%    0.011041\n",
      "32       IFH    0.010522\n",
      "30     IFFB%    0.009823\n",
      "37     Cent%    0.009727\n",
      "10     BABIP    0.008820\n",
      "21        LA    0.008618\n",
      "6        SLG    0.008153\n",
      "4        AVG    0.007649\n",
      "29       FB%    0.007484\n",
      "18    Events    0.006951\n",
      "40      Med%    0.006613\n",
      "26     GB/FB    0.005397\n",
      "28       GB%    0.005279\n",
      "8        ISO    0.005169\n",
      "35      BUH%    0.003632\n",
      "34       BUH    0.002118\n"
     ]
    }
   ],
   "source": [
    "rf = RandomForestRegressor()\n",
    "\n",
    "rf.fit(X_train, y_train)\n",
    "\n",
    "feature_importances = pd.DataFrame({\n",
    "    'Feature': X.columns,\n",
    "    'Importance': rf.feature_importances_\n",
    "}).sort_values(by='Importance', ascending=False)\n",
    "print(feature_importances)\n"
   ]
  },
  {
   "cell_type": "markdown",
   "id": "17eb1630-c2bd-4be6-94db-c6374db9123e",
   "metadata": {},
   "source": [
    "From FB% down, these features will be removed and we'll see if model is improved. Also need to modify the preprocessor since our columns have changed a bit."
   ]
  },
  {
   "cell_type": "code",
   "execution_count": 14,
   "id": "0803b61d-a8ce-4d4a-a582-77110ed69276",
   "metadata": {},
   "outputs": [
    {
     "name": "stdout",
     "output_type": "stream",
     "text": [
      "<class 'pandas.core.frame.DataFrame'>\n",
      "Index: 584 entries, 0 to 2166\n",
      "Data columns (total 34 columns):\n",
      " #   Column    Non-Null Count  Dtype  \n",
      "---  ------    --------------  -----  \n",
      " 0   PA        584 non-null    int64  \n",
      " 1   BB%       584 non-null    float64\n",
      " 2   K%        584 non-null    float64\n",
      " 3   BB/K      584 non-null    float64\n",
      " 4   AVG       584 non-null    float64\n",
      " 5   OBP       584 non-null    float64\n",
      " 6   SLG       584 non-null    float64\n",
      " 7   OPS       584 non-null    float64\n",
      " 8   Spd       584 non-null    float64\n",
      " 9   BABIP     584 non-null    float64\n",
      " 10  UBR       584 non-null    float64\n",
      " 11  wGDP      584 non-null    float64\n",
      " 12  wSB       584 non-null    float64\n",
      " 13  wRC       584 non-null    float64\n",
      " 14  wRAA      584 non-null    float64\n",
      " 15  wOBA      584 non-null    float64\n",
      " 16  wRC+      584 non-null    float64\n",
      " 17  EV        584 non-null    float64\n",
      " 18  maxEV     584 non-null    float64\n",
      " 19  LA        584 non-null    float64\n",
      " 20  Barrels   584 non-null    int64  \n",
      " 21  Barrel%   584 non-null    float64\n",
      " 22  HardHit   584 non-null    int64  \n",
      " 23  HardHit%  584 non-null    float64\n",
      " 24  LD%       584 non-null    float64\n",
      " 25  IFFB%     584 non-null    float64\n",
      " 26  HR/FB     584 non-null    float64\n",
      " 27  IFH       584 non-null    int64  \n",
      " 28  IFH%      584 non-null    float64\n",
      " 29  Pull%     584 non-null    float64\n",
      " 30  Cent%     584 non-null    float64\n",
      " 31  Oppo%     584 non-null    float64\n",
      " 32  Soft%     584 non-null    float64\n",
      " 33  Hard%     584 non-null    float64\n",
      "dtypes: float64(30), int64(4)\n",
      "memory usage: 159.7 KB\n"
     ]
    }
   ],
   "source": [
    "new_X = X.drop(columns = ['FB%', 'Events', 'Med%', 'GB/FB', 'GB%', 'ISO', 'BUH%', 'BUH'])\n",
    "\n",
    "new_X.info()\n",
    "\n",
    "X_train, X_test, y_train, y_test = train_test_split(new_X, y, test_size = 0.2)\n",
    "\n",
    "numerical_cols = new_X.columns.values\n",
    "\n",
    "new_preprocessor = ColumnTransformer(\n",
    "    transformers=[\n",
    "        ('numerical', StandardScaler(), numerical_cols)\n",
    "    ]\n",
    ")"
   ]
  },
  {
   "cell_type": "code",
   "execution_count": 17,
   "id": "fd84afba-cd2f-4656-bd0c-f152727a4663",
   "metadata": {},
   "outputs": [
    {
     "name": "stdout",
     "output_type": "stream",
     "text": [
      "Random Forest Regressor -- Mean absolute error: 5585602.536923076\n"
     ]
    }
   ],
   "source": [
    "RF_pipeline = Pipeline(steps=[\n",
    "    ('preprocessor', new_preprocessor),\n",
    "    ('random forest', RandomForestRegressor(n_estimators = 200, max_depth = None, min_samples_split = 2))\n",
    "])\n",
    "\n",
    "RF_pipeline.fit(X_train, y_train)\n",
    "\n",
    "FA_pred = RF_pipeline.predict(X_test)\n",
    "\n",
    "mae = mean_absolute_error(y_test, FA_pred)\n",
    "print('Random Forest Regressor -- Mean absolute error:', mae)"
   ]
  },
  {
   "cell_type": "markdown",
   "id": "86d594f2-7ba0-43fe-885b-c467e8b1d2a6",
   "metadata": {},
   "source": [
    "Mean absolute error looks a bit better after removing some features"
   ]
  },
  {
   "cell_type": "code",
   "execution_count": null,
   "id": "57cf517b-bfd9-4e06-aebf-95cff3e84476",
   "metadata": {},
   "outputs": [],
   "source": []
  }
 ],
 "metadata": {
  "kernelspec": {
   "display_name": "Python 3 (ipykernel)",
   "language": "python",
   "name": "python3"
  },
  "language_info": {
   "codemirror_mode": {
    "name": "ipython",
    "version": 3
   },
   "file_extension": ".py",
   "mimetype": "text/x-python",
   "name": "python",
   "nbconvert_exporter": "python",
   "pygments_lexer": "ipython3",
   "version": "3.12.5"
  }
 },
 "nbformat": 4,
 "nbformat_minor": 5
}
