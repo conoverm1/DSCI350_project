{
 "cells": [
  {
   "cell_type": "code",
   "execution_count": 227,
   "id": "d2620403-2af5-4ec4-ab4c-30a1800a4ec7",
   "metadata": {},
   "outputs": [],
   "source": [
    "import pandas as pd\n",
    "import numpy as np\n",
    "from sklearn.model_selection import train_test_split, cross_val_score, GridSearchCV\n",
    "from sklearn.linear_model import LinearRegression\n",
    "from sklearn.ensemble import RandomForestRegressor, StackingRegressor, VotingRegressor\n",
    "from sklearn.tree import DecisionTreeRegressor\n",
    "from sklearn.svm import SVR\n",
    "from sklearn.preprocessing import OneHotEncoder, StandardScaler\n",
    "from sklearn.metrics import mean_squared_error, mean_absolute_error\n",
    "from sklearn.pipeline import Pipeline\n",
    "from sklearn.compose import ColumnTransformer"
   ]
  },
  {
   "cell_type": "markdown",
   "id": "aba05b99-42d7-4e3e-ab89-9c6b4907b802",
   "metadata": {},
   "source": [
    "-------------------------------------------------------\n",
    "Building the models\n",
    "\n",
    "Do the following individually:\n",
    "\n",
    "* Linear Regression\n",
    "* Decision Tree Regression\n",
    "* Support Vector Machine Regression\n",
    "* Random Forest Regression\n",
    "\n",
    "Perform some ensembles:\n",
    "\n",
    "* LR, DTR, and SVR\n",
    "* LR, DTR, SVR, and Random Forest\n",
    "* Various Combinations\n",
    "\n",
    "\n",
    "\n",
    "-------------------------------------------------------\n"
   ]
  },
  {
   "cell_type": "markdown",
   "id": "9492c534-d51d-41ff-8e7c-91a0bc4db8bf",
   "metadata": {},
   "source": [
    "Loading in the Dataset"
   ]
  },
  {
   "cell_type": "code",
   "execution_count": 197,
   "id": "20a9b3ca-6229-43cb-a87c-7c3d2b968e6c",
   "metadata": {},
   "outputs": [],
   "source": [
    "master = pd.read_csv(\"master.csv\")\n",
    "\n",
    "master = master.dropna(subset =['AAV'])\n"
   ]
  },
  {
   "cell_type": "markdown",
   "id": "51e16b90-1109-4251-96cb-2478d2ea1e02",
   "metadata": {},
   "source": [
    "Removing columns we don't want and performing train test split"
   ]
  },
  {
   "cell_type": "code",
   "execution_count": 198,
   "id": "4440560f-241c-4b33-907c-65dace7d5345",
   "metadata": {},
   "outputs": [
    {
     "name": "stdout",
     "output_type": "stream",
     "text": [
      "<class 'pandas.core.frame.DataFrame'>\n",
      "Index: 584 entries, 0 to 2166\n",
      "Data columns (total 42 columns):\n",
      " #   Column    Non-Null Count  Dtype  \n",
      "---  ------    --------------  -----  \n",
      " 0   PA        584 non-null    int64  \n",
      " 1   BB%       584 non-null    float64\n",
      " 2   K%        584 non-null    float64\n",
      " 3   BB/K      584 non-null    float64\n",
      " 4   AVG       584 non-null    float64\n",
      " 5   OBP       584 non-null    float64\n",
      " 6   SLG       584 non-null    float64\n",
      " 7   OPS       584 non-null    float64\n",
      " 8   ISO       584 non-null    float64\n",
      " 9   Spd       584 non-null    float64\n",
      " 10  BABIP     584 non-null    float64\n",
      " 11  UBR       584 non-null    float64\n",
      " 12  wGDP      584 non-null    float64\n",
      " 13  wSB       584 non-null    float64\n",
      " 14  wRC       584 non-null    float64\n",
      " 15  wRAA      584 non-null    float64\n",
      " 16  wOBA      584 non-null    float64\n",
      " 17  wRC+      584 non-null    float64\n",
      " 18  Events    584 non-null    int64  \n",
      " 19  EV        584 non-null    float64\n",
      " 20  maxEV     584 non-null    float64\n",
      " 21  LA        584 non-null    float64\n",
      " 22  Barrels   584 non-null    int64  \n",
      " 23  Barrel%   584 non-null    float64\n",
      " 24  HardHit   584 non-null    int64  \n",
      " 25  HardHit%  584 non-null    float64\n",
      " 26  GB/FB     584 non-null    float64\n",
      " 27  LD%       584 non-null    float64\n",
      " 28  GB%       584 non-null    float64\n",
      " 29  FB%       584 non-null    float64\n",
      " 30  IFFB%     584 non-null    float64\n",
      " 31  HR/FB     584 non-null    float64\n",
      " 32  IFH       584 non-null    int64  \n",
      " 33  IFH%      584 non-null    float64\n",
      " 34  BUH       584 non-null    int64  \n",
      " 35  BUH%      584 non-null    float64\n",
      " 36  Pull%     584 non-null    float64\n",
      " 37  Cent%     584 non-null    float64\n",
      " 38  Oppo%     584 non-null    float64\n",
      " 39  Soft%     584 non-null    float64\n",
      " 40  Med%      584 non-null    float64\n",
      " 41  Hard%     584 non-null    float64\n",
      "dtypes: float64(36), int64(6)\n",
      "memory usage: 196.2 KB\n"
     ]
    }
   ],
   "source": [
    "X = master.drop(columns = ['AAV', 'Season', 'fullName', 'Age 7/1/21', 'Age 7/1/22', 'Age 7/1/23', 'Age 7/1/24',\n",
    "                          'Details', 'Baseball Ops      head / club GM', 'Club Owner', 'Player Agent', 'Option',\n",
    "                          'Term', 'Guarantee', 'Years', 'New Club', 'Old    Club', 'Qual    Offer', 'nameFirst',\n",
    "                          'nameLast', 'MLBAMID', 'PlayerId', 'NameASCII', 'Team', \"Pos'n\", 'XBR', 'Age'])\n",
    "\n",
    "y = master['AAV']\n",
    "\n",
    "X.info()\n",
    "\n",
    "X_train, X_test, y_train, y_test = train_test_split(X, y, test_size = 0.2)"
   ]
  },
  {
   "cell_type": "markdown",
   "id": "80792435-20c1-4a61-bdc3-e94eb3221da1",
   "metadata": {},
   "source": [
    "Setting up the preprocessor. Only numeric columns in the models, so just standard scaling needs to be done."
   ]
  },
  {
   "cell_type": "code",
   "execution_count": 199,
   "id": "a2c7dc1a-f579-4df7-b801-c03bf1176ac1",
   "metadata": {},
   "outputs": [],
   "source": [
    "numerical_cols = X.columns.values\n",
    "\n",
    "preprocessor = ColumnTransformer(\n",
    "    transformers=[\n",
    "        ('numerical', StandardScaler(), numerical_cols)\n",
    "    ]\n",
    ")"
   ]
  },
  {
   "cell_type": "markdown",
   "id": "73bcd145-455b-48e7-a62e-2715d1915cde",
   "metadata": {},
   "source": [
    "Start out with a multiple linear regression, using mean absolute error as the model evaluation metric."
   ]
  },
  {
   "cell_type": "code",
   "execution_count": 200,
   "id": "6fec6269-ca44-40cd-a7ca-d750f08a2844",
   "metadata": {},
   "outputs": [
    {
     "name": "stdout",
     "output_type": "stream",
     "text": [
      "Linear Regression -- Mean absolute error: 5731563.16262646\n"
     ]
    }
   ],
   "source": [
    "# Linear Regression Pipeline\n",
    "\n",
    "LR_pipeline = Pipeline(steps=[\n",
    "    ('preprocessor', preprocessor),\n",
    "    ('regressor', LinearRegression())\n",
    "])\n",
    "\n",
    "LR_pipeline.fit(X_train, y_train)\n",
    "\n",
    "LR_FA_pred = LR_pipeline.predict(X_test)\n",
    "\n",
    "LR_MAE = mean_absolute_error(y_test, LR_FA_pred)\n",
    "print('Linear Regression -- Mean absolute error:', LR_MAE)"
   ]
  },
  {
   "cell_type": "markdown",
   "id": "892628fb-a600-4a42-a626-e0a0b3879ba8",
   "metadata": {},
   "source": [
    "-------------------------------------------------------\n",
    "Decision Tree Regression"
   ]
  },
  {
   "cell_type": "code",
   "execution_count": 201,
   "id": "06ab0187-d09b-4d8f-8b30-63ca577013b9",
   "metadata": {},
   "outputs": [
    {
     "name": "stdout",
     "output_type": "stream",
     "text": [
      "Decision Tree Regression -- Mean absolute error: 6890782.846153846\n"
     ]
    }
   ],
   "source": [
    "DTR_pipeline = Pipeline(steps=[\n",
    "    ('preprocessor', preprocessor),\n",
    "    ('regressor', DecisionTreeRegressor())\n",
    "])\n",
    "\n",
    "DTR_pipeline.fit(X_train, y_train)\n",
    "\n",
    "DTR_FA_pred = DTR_pipeline.predict(X_test)\n",
    "\n",
    "DTR_MAE = mean_absolute_error(y_test, DTR_FA_pred)\n",
    "print('Decision Tree Regression -- Mean absolute error:', DTR_MAE)"
   ]
  },
  {
   "cell_type": "markdown",
   "id": "6b51b378-6735-4ee0-b698-49f62980373a",
   "metadata": {},
   "source": [
    "Decision Tree Regression Hyperparameter Grid Search:"
   ]
  },
  {
   "cell_type": "code",
   "execution_count": 65,
   "id": "dcbf0a3c-f989-44ca-a99e-cabcd6c5e7e5",
   "metadata": {},
   "outputs": [
    {
     "data": {
      "text/plain": [
       "{'max_depth': 5, 'min_samples_split': 10, 'splitter': 'random'}"
      ]
     },
     "execution_count": 65,
     "metadata": {},
     "output_type": "execute_result"
    }
   ],
   "source": [
    "DTR_param_grid = {\n",
    "    'splitter': ['best', 'random'],\n",
    "    'max_depth': [None, 5, 10, 15, 20],\n",
    "    'min_samples_split': [2, 5, 10]\n",
    "}\n",
    "\n",
    "DTR_grid_search = GridSearchCV(DecisionTreeRegressor(), DTR_param_grid, scoring = 'neg_mean_absolute_error')\n",
    "DTR_grid_search.fit(X_train, y_train)\n",
    "DTR_grid_search.best_params_"
   ]
  },
  {
   "cell_type": "markdown",
   "id": "6dfbd364-0059-4911-9661-6f07bc5477f6",
   "metadata": {},
   "source": [
    "New Decision Tree Regression with tuned hyperparameters:"
   ]
  },
  {
   "cell_type": "code",
   "execution_count": 202,
   "id": "f43dd845-3359-439d-9f04-7a9fef3b11a5",
   "metadata": {},
   "outputs": [
    {
     "name": "stdout",
     "output_type": "stream",
     "text": [
      "Decision Tree Regression -- Mean absolute error: 5545654.164611248\n"
     ]
    }
   ],
   "source": [
    "DTR_pipeline2 = Pipeline(steps=[\n",
    "    ('preprocessor', preprocessor),\n",
    "    ('regressor', DecisionTreeRegressor(max_depth = 5, min_samples_split = 10, splitter = 'random'))\n",
    "])\n",
    "\n",
    "DTR_pipeline2.fit(X_train, y_train)\n",
    "\n",
    "DTR_FA_pred2 = DTR_pipeline2.predict(X_test)\n",
    "\n",
    "DTR_MAE2 = mean_absolute_error(y_test, DTR_FA_pred2)\n",
    "print('Decision Tree Regression -- Mean absolute error:', DTR_MAE2)"
   ]
  },
  {
   "cell_type": "markdown",
   "id": "f53e9da5-5177-4692-83ad-658c366d43e7",
   "metadata": {},
   "source": [
    "----------------------------------------\n",
    "\n",
    "Support Vector Machine Regression"
   ]
  },
  {
   "cell_type": "code",
   "execution_count": 205,
   "id": "f64f1cdb-7f92-4aca-941c-3acb9f9c11c2",
   "metadata": {},
   "outputs": [
    {
     "name": "stdout",
     "output_type": "stream",
     "text": [
      "SVM Regression -- Mean absolute error: 8258760.263538601\n"
     ]
    }
   ],
   "source": [
    "SVR_pipeline = Pipeline(steps=[\n",
    "    ('preprocessor', preprocessor),\n",
    "    ('regressor', SVR())\n",
    "])\n",
    "\n",
    "SVR_pipeline.fit(X_train, y_train)\n",
    "\n",
    "SVR_FA_pred = SVR_pipeline.predict(X_test)\n",
    "\n",
    "SVR_MAE = mean_absolute_error(y_test, SVR_FA_pred)\n",
    "\n",
    "print('SVM Regression -- Mean absolute error:', SVR_MAE)"
   ]
  },
  {
   "cell_type": "markdown",
   "id": "5982abf9-f8f7-47d3-9040-e7c7aba63247",
   "metadata": {},
   "source": [
    "\n",
    "-----------------------------------------------------------\n",
    "\n",
    "Random Forest Regression\n",
    "\n"
   ]
  },
  {
   "cell_type": "code",
   "execution_count": 206,
   "id": "c7d7512e-2b8b-47b0-a64f-ef421f0acbfd",
   "metadata": {},
   "outputs": [
    {
     "name": "stdout",
     "output_type": "stream",
     "text": [
      "Random Forest Regressor -- Mean absolute error: 4967980.809316238\n"
     ]
    }
   ],
   "source": [
    "RF_pipeline = Pipeline(steps=[\n",
    "    ('preprocessor', preprocessor),\n",
    "    ('random forest', RandomForestRegressor())\n",
    "])\n",
    "\n",
    "RF_pipeline.fit(X_train, y_train)\n",
    "\n",
    "RF_FA_pred = RF_pipeline.predict(X_test)\n",
    "\n",
    "mae = mean_absolute_error(y_test, RF_FA_pred)\n",
    "print('Random Forest Regressor -- Mean absolute error:', mae)"
   ]
  },
  {
   "cell_type": "markdown",
   "id": "41f7cfe9-0680-4534-a909-c82b7ad80ef0",
   "metadata": {},
   "source": [
    "\n",
    "\n",
    "\n",
    "Random Forest Hyperparameter Grid Search:"
   ]
  },
  {
   "cell_type": "code",
   "execution_count": 28,
   "id": "3e1e0382-f484-4cb9-8c81-69b51e188f17",
   "metadata": {},
   "outputs": [
    {
     "data": {
      "text/plain": [
       "{'max_depth': None, 'min_samples_split': 2, 'n_estimators': 200}"
      ]
     },
     "execution_count": 28,
     "metadata": {},
     "output_type": "execute_result"
    }
   ],
   "source": [
    "rf_param_grid = {\n",
    "    'n_estimators': [100, 200, 300],\n",
    "    'max_depth': [None, 10, 20, 30],\n",
    "    'min_samples_split': [2, 5, 10]\n",
    "}\n",
    "\n",
    "grid_search = GridSearchCV(RandomForestRegressor(), rf_param_grid, scoring = 'neg_mean_absolute_error')\n",
    "grid_search.fit(X_train, y_train)\n",
    "grid_search.best_params_"
   ]
  },
  {
   "cell_type": "markdown",
   "id": "c51e80ed-9b2c-4a12-8e33-608617d07841",
   "metadata": {},
   "source": [
    "New Random Forest Model with tuned hyperparameters:"
   ]
  },
  {
   "cell_type": "code",
   "execution_count": 210,
   "id": "3e55ace7-5aab-4f5a-a9c0-c16f31e19c99",
   "metadata": {},
   "outputs": [
    {
     "name": "stdout",
     "output_type": "stream",
     "text": [
      "Random Forest Regressor -- Mean absolute error: 5000523.2391453\n"
     ]
    }
   ],
   "source": [
    "RF_pipeline2 = Pipeline(steps=[\n",
    "    ('preprocessor', preprocessor),\n",
    "    ('random forest', RandomForestRegressor(n_estimators = 200, max_depth = None, min_samples_split = 2))\n",
    "])\n",
    "\n",
    "RF_pipeline2.fit(X_train, y_train)\n",
    "\n",
    "RF_FA_pred2 = RF_pipeline2.predict(X_test)\n",
    "\n",
    "mae = mean_absolute_error(y_test, RF_FA_pred2)\n",
    "print('Random Forest Regressor -- Mean absolute error:', mae)"
   ]
  },
  {
   "cell_type": "markdown",
   "id": "5f5dd3af-9112-48b1-be54-c67ef22a0d76",
   "metadata": {},
   "source": [
    "Mean absolute error has still been pretty bad for the models, so we're gonna look at the importance of each feature and remove some as necessary"
   ]
  },
  {
   "cell_type": "code",
   "execution_count": 173,
   "id": "e520ced3-7797-426a-b681-38ee61e73fb0",
   "metadata": {},
   "outputs": [
    {
     "name": "stdout",
     "output_type": "stream",
     "text": [
      "     Feature  Importance\n",
      "17      wRC+    0.111363\n",
      "15      wRAA    0.098519\n",
      "20     maxEV    0.061816\n",
      "16      wOBA    0.056090\n",
      "19        EV    0.054484\n",
      "25  HardHit%    0.048059\n",
      "0         PA    0.043100\n",
      "31     HR/FB    0.035559\n",
      "39     Soft%    0.033277\n",
      "14       wRC    0.026953\n",
      "9        Spd    0.026770\n",
      "22   Barrels    0.025235\n",
      "33      IFH%    0.025216\n",
      "7        OPS    0.023952\n",
      "41     Hard%    0.021784\n",
      "11       UBR    0.020949\n",
      "24   HardHit    0.020782\n",
      "1        BB%    0.020260\n",
      "12      wGDP    0.020258\n",
      "23   Barrel%    0.016509\n",
      "36     Pull%    0.016084\n",
      "13       wSB    0.014334\n",
      "2         K%    0.012473\n",
      "38     Oppo%    0.012383\n",
      "8        ISO    0.011192\n",
      "27       LD%    0.011172\n",
      "10     BABIP    0.011099\n",
      "5        OBP    0.010487\n",
      "18    Events    0.010330\n",
      "32       IFH    0.009880\n",
      "3       BB/K    0.009769\n",
      "30     IFFB%    0.009699\n",
      "6        SLG    0.009467\n",
      "37     Cent%    0.009464\n",
      "4        AVG    0.008760\n",
      "40      Med%    0.008556\n",
      "28       GB%    0.008484\n",
      "21        LA    0.007713\n",
      "26     GB/FB    0.006801\n",
      "29       FB%    0.005888\n",
      "35      BUH%    0.002768\n",
      "34       BUH    0.002263\n"
     ]
    }
   ],
   "source": [
    "rf = RandomForestRegressor()\n",
    "\n",
    "rf.fit(X_train, y_train)\n",
    "\n",
    "feature_importances = pd.DataFrame({\n",
    "    'Feature': X.columns,\n",
    "    'Importance': rf.feature_importances_\n",
    "}).sort_values(by='Importance', ascending=False)\n",
    "print(feature_importances)\n"
   ]
  },
  {
   "cell_type": "markdown",
   "id": "17eb1630-c2bd-4be6-94db-c6374db9123e",
   "metadata": {},
   "source": [
    "From FB% down, these features will be removed and we'll see if models are improved. Also need to modify the preprocessor since our columns have changed a bit."
   ]
  },
  {
   "cell_type": "code",
   "execution_count": 211,
   "id": "0803b61d-a8ce-4d4a-a582-77110ed69276",
   "metadata": {},
   "outputs": [
    {
     "name": "stdout",
     "output_type": "stream",
     "text": [
      "<class 'pandas.core.frame.DataFrame'>\n",
      "Index: 584 entries, 0 to 2166\n",
      "Data columns (total 34 columns):\n",
      " #   Column    Non-Null Count  Dtype  \n",
      "---  ------    --------------  -----  \n",
      " 0   PA        584 non-null    int64  \n",
      " 1   BB%       584 non-null    float64\n",
      " 2   K%        584 non-null    float64\n",
      " 3   BB/K      584 non-null    float64\n",
      " 4   AVG       584 non-null    float64\n",
      " 5   OBP       584 non-null    float64\n",
      " 6   SLG       584 non-null    float64\n",
      " 7   OPS       584 non-null    float64\n",
      " 8   Spd       584 non-null    float64\n",
      " 9   BABIP     584 non-null    float64\n",
      " 10  UBR       584 non-null    float64\n",
      " 11  wGDP      584 non-null    float64\n",
      " 12  wSB       584 non-null    float64\n",
      " 13  wRC       584 non-null    float64\n",
      " 14  wRAA      584 non-null    float64\n",
      " 15  wOBA      584 non-null    float64\n",
      " 16  wRC+      584 non-null    float64\n",
      " 17  EV        584 non-null    float64\n",
      " 18  maxEV     584 non-null    float64\n",
      " 19  LA        584 non-null    float64\n",
      " 20  Barrels   584 non-null    int64  \n",
      " 21  Barrel%   584 non-null    float64\n",
      " 22  HardHit   584 non-null    int64  \n",
      " 23  HardHit%  584 non-null    float64\n",
      " 24  LD%       584 non-null    float64\n",
      " 25  IFFB%     584 non-null    float64\n",
      " 26  HR/FB     584 non-null    float64\n",
      " 27  IFH       584 non-null    int64  \n",
      " 28  IFH%      584 non-null    float64\n",
      " 29  Pull%     584 non-null    float64\n",
      " 30  Cent%     584 non-null    float64\n",
      " 31  Oppo%     584 non-null    float64\n",
      " 32  Soft%     584 non-null    float64\n",
      " 33  Hard%     584 non-null    float64\n",
      "dtypes: float64(30), int64(4)\n",
      "memory usage: 159.7 KB\n"
     ]
    }
   ],
   "source": [
    "new_X = X.drop(columns = ['FB%', 'Events', 'Med%', 'GB/FB', 'GB%', 'ISO', 'BUH%', 'BUH'])\n",
    "\n",
    "new_X.info()\n",
    "\n",
    "X_train2, X_test2, y_train2, y_test2 = train_test_split(new_X, y, test_size = 0.2)\n",
    "\n",
    "numerical_cols = new_X.columns.values\n",
    "\n",
    "new_preprocessor = ColumnTransformer(\n",
    "    transformers=[\n",
    "        ('numerical', StandardScaler(), numerical_cols)\n",
    "    ]\n",
    ")"
   ]
  },
  {
   "cell_type": "markdown",
   "id": "b40e2d39-7f7f-4a93-af9d-52319399a9ce",
   "metadata": {},
   "source": [
    "--------------------------------\n",
    "\n",
    "Linear Regression with removed features:"
   ]
  },
  {
   "cell_type": "code",
   "execution_count": 176,
   "id": "49af708e-743a-4f8e-af07-0370162f2faf",
   "metadata": {},
   "outputs": [
    {
     "name": "stdout",
     "output_type": "stream",
     "text": [
      "Linear Regression -- Mean absolute error: 6265482.8036259785\n"
     ]
    }
   ],
   "source": [
    "LR_pipeline3 = Pipeline(steps=[\n",
    "    ('preprocessor', new_preprocessor),\n",
    "    ('regressor', LinearRegression())\n",
    "])\n",
    "\n",
    "LR_pipeline3.fit(X_train2, y_train2)\n",
    "\n",
    "LR_FA_pred3 = LR_pipeline3.predict(X_test2)\n",
    "\n",
    "mae = mean_absolute_error(y_test2, LR_FA_pred3)\n",
    "print('Linear Regression -- Mean absolute error:', mae)"
   ]
  },
  {
   "cell_type": "markdown",
   "id": "0907edcd-b7a7-4de0-a33d-c7a07c549547",
   "metadata": {},
   "source": [
    "--------------------------------\n",
    "\n",
    "Decision Tree Regression with removed features:"
   ]
  },
  {
   "cell_type": "code",
   "execution_count": 178,
   "id": "6732fafa-f574-458d-b2b7-1ed30946909b",
   "metadata": {},
   "outputs": [
    {
     "name": "stdout",
     "output_type": "stream",
     "text": [
      "Decision Tree Regression -- Mean absolute error: 7029840.910463934\n"
     ]
    }
   ],
   "source": [
    "DTR_pipeline3 = Pipeline(steps=[\n",
    "    ('preprocessor', new_preprocessor),\n",
    "    ('regressor', DecisionTreeRegressor(max_depth = 5, min_samples_split = 10, splitter = 'random'))\n",
    "])\n",
    "\n",
    "DTR_pipeline3.fit(X_train2, y_train2)\n",
    "\n",
    "DTR_FA_pred3 = DTR_pipeline3.predict(X_test2)\n",
    "\n",
    "mae = mean_absolute_error(y_test2, DTR_FA_pred3)\n",
    "print('Decision Tree Regression -- Mean absolute error:', mae)"
   ]
  },
  {
   "cell_type": "markdown",
   "id": "addcb4b7-5000-4059-8e20-03e58dc60f82",
   "metadata": {},
   "source": [
    "--------------------------------\n",
    "\n",
    "SVM Regression with removed features:"
   ]
  },
  {
   "cell_type": "code",
   "execution_count": 180,
   "id": "0a613be7-3f36-48c6-928d-b6c3c66916a8",
   "metadata": {},
   "outputs": [
    {
     "name": "stdout",
     "output_type": "stream",
     "text": [
      "SVM Regression -- Mean absolute error: 7845474.899472245\n"
     ]
    }
   ],
   "source": [
    "SVR_pipeline3 = Pipeline(steps=[\n",
    "    ('preprocessor', new_preprocessor),\n",
    "    ('regressor', SVR())\n",
    "])\n",
    "\n",
    "SVR_pipeline3.fit(X_train2, y_train2)\n",
    "\n",
    "SVR_FA_pred3 = SVR_pipeline3.predict(X_test2)\n",
    "\n",
    "SVR_MAE2 = mean_absolute_error(y_test2, SVR_FA_pred3)\n",
    "\n",
    "print('SVM Regression -- Mean absolute error:', SVR_MAE2)"
   ]
  },
  {
   "cell_type": "markdown",
   "id": "dce1dafd-b25c-412d-abda-31dad88eaf64",
   "metadata": {},
   "source": [
    "--------------------------------\n",
    "\n",
    "Random Forest Regression with removed features:"
   ]
  },
  {
   "cell_type": "code",
   "execution_count": 213,
   "id": "fd84afba-cd2f-4656-bd0c-f152727a4663",
   "metadata": {},
   "outputs": [
    {
     "name": "stdout",
     "output_type": "stream",
     "text": [
      "Random Forest Regressor -- Mean absolute error: 6214224.535683761\n"
     ]
    }
   ],
   "source": [
    "RF_pipeline3 = Pipeline(steps=[\n",
    "    ('preprocessor', new_preprocessor),\n",
    "    ('random forest', RandomForestRegressor(n_estimators = 200, max_depth = None, min_samples_split = 2))\n",
    "])\n",
    "\n",
    "RF_pipeline3.fit(X_train2, y_train2)\n",
    "\n",
    "RF_FA_pred3 = RF_pipeline3.predict(X_test2)\n",
    "\n",
    "mae = mean_absolute_error(y_test2, RF_FA_pred3)\n",
    "print('Random Forest Regressor -- Mean absolute error:', mae)"
   ]
  },
  {
   "cell_type": "markdown",
   "id": "86d594f2-7ba0-43fe-885b-c467e8b1d2a6",
   "metadata": {},
   "source": [
    "Mean absolute error looks a bit better after removing some features for all of the individual models"
   ]
  },
  {
   "cell_type": "markdown",
   "id": "1a33d045-dbd2-4586-9d23-e8e1207ecb8a",
   "metadata": {},
   "source": [
    "--------------------------------------\n",
    "\n",
    "let's do some ensemble methods"
   ]
  },
  {
   "cell_type": "code",
   "execution_count": 228,
   "id": "15330160-1290-4452-bf7a-a8c9706f55ef",
   "metadata": {},
   "outputs": [],
   "source": [
    "# Base models\n",
    "LR = LinearRegression()\n",
    "DTR = DecisionTreeRegressor(max_depth = 5, min_samples_split = 10, splitter = 'random')\n",
    "SVR = SVR()\n",
    "RF = RandomForestRegressor(n_estimators = 300, max_depth = None, min_samples_split = 2)\n"
   ]
  },
  {
   "cell_type": "code",
   "execution_count": 194,
   "id": "4294029c-1368-435b-bfb1-3bbf75c0155a",
   "metadata": {},
   "outputs": [
    {
     "name": "stdout",
     "output_type": "stream",
     "text": [
      "Ensemble -- Mean absolute error: 5935341.185873699\n"
     ]
    }
   ],
   "source": [
    "# Stacking Regressor\n",
    "ensemble1 = StackingRegressor(\n",
    "    estimators=[\n",
    "        ('LR', LR),\n",
    "        ('DTR', DTR),\n",
    "        ('SVR', SVR)\n",
    "    ],\n",
    "    final_estimator=LR\n",
    ")\n",
    "\n",
    "ensemble1.fit(X_train, y_train)\n",
    "\n",
    "ensemble_FA_pred = ensemble1.predict(X_test)\n",
    "\n",
    "ensemble_MAE = mean_absolute_error(y_test, ensemble_FA_pred)\n",
    "print('Ensemble -- Mean absolute error:', ensemble_MAE)"
   ]
  },
  {
   "cell_type": "code",
   "execution_count": 196,
   "id": "c3dccec5-0a9e-4e0b-8348-b1a1d53d8073",
   "metadata": {},
   "outputs": [
    {
     "name": "stdout",
     "output_type": "stream",
     "text": [
      "Ensemble -- Mean absolute error: 5785603.0027840305\n"
     ]
    }
   ],
   "source": [
    "\n",
    "# Stacking Regressor\n",
    "ensemble2 = StackingRegressor(\n",
    "    estimators=[\n",
    "        ('LR', LR),\n",
    "        ('DTR', DTR),\n",
    "        ('SVR', SVR),\n",
    "        ('RF', RF)\n",
    "    ],\n",
    "    final_estimator= LR\n",
    ")\n",
    "\n",
    "ensemble2_pipeline = Pipeline([\n",
    "    ('preprocessor', preprocessor),\n",
    "    ('ensemble', ensemble2)\n",
    "\n",
    "])\n",
    "\n",
    "ensemble2_pipeline.fit(X_train, y_train)\n",
    "\n",
    "ensemble_FA_pred2 = ensemble2_pipeline.predict(X_test)\n",
    "\n",
    "ensemble_MAE2 = mean_absolute_error(y_test, ensemble_FA_pred2)\n",
    "print('Ensemble -- Mean absolute error:', ensemble_MAE2)"
   ]
  },
  {
   "cell_type": "code",
   "execution_count": 230,
   "id": "1a04bb02-0ac3-4e10-a95e-b08de071d67c",
   "metadata": {},
   "outputs": [
    {
     "name": "stdout",
     "output_type": "stream",
     "text": [
      "Ensemble -- Mean absolute error: 5126994.809496413\n"
     ]
    }
   ],
   "source": [
    "# Stacking Regressor\n",
    "ensemble5 = StackingRegressor(\n",
    "    estimators=[\n",
    "        ('LR', LR),\n",
    "        ('RF', RF)\n",
    "    ],\n",
    "    final_estimator= LR\n",
    ")\n",
    "\n",
    "ensemble5_pipeline = Pipeline([\n",
    "    ('preprocessor', preprocessor),\n",
    "    ('ensemble', ensemble5)\n",
    "\n",
    "])\n",
    "\n",
    "ensemble5_pipeline.fit(X_train, y_train)\n",
    "\n",
    "ensemble_FA_pred5 = ensemble5_pipeline.predict(X_test)\n",
    "\n",
    "ensemble_MAE5 = mean_absolute_error(y_test, ensemble_FA_pred5)\n",
    "print('Ensemble -- Mean absolute error:', ensemble_MAE5)"
   ]
  },
  {
   "cell_type": "code",
   "execution_count": 118,
   "id": "c181491d-944e-423d-9a68-a4ac98156fc1",
   "metadata": {},
   "outputs": [],
   "source": [
    "from sklearn.svm import SVR"
   ]
  },
  {
   "cell_type": "markdown",
   "id": "ba2e9ec0-828f-4fb8-9387-3f1d311c542a",
   "metadata": {},
   "source": [
    "Let's try the same ensembles but with voting instead of stacking:"
   ]
  },
  {
   "cell_type": "code",
   "execution_count": 186,
   "id": "ea8c35e6-b441-4e5b-8fa4-16b29d49aee2",
   "metadata": {},
   "outputs": [
    {
     "name": "stdout",
     "output_type": "stream",
     "text": [
      "Ensemble -- Mean absolute error: 6355592.213450073\n"
     ]
    }
   ],
   "source": [
    "\n",
    "# Voting Regressor\n",
    "ensemble3 = VotingRegressor(estimators=[\n",
    "    ('LR', LR),\n",
    "    ('DTR', DTR),\n",
    "    ('SVR', SVR)\n",
    "])\n",
    "\n",
    "ensemble3_pipeline = Pipeline([\n",
    "    ('preprocessor', new_preprocessor),\n",
    "    ('ensemble', ensemble3)\n",
    "\n",
    "])\n",
    "\n",
    "ensemble3_pipeline.fit(X_train2, y_train2)\n",
    "\n",
    "ensemble_FA_pred3 = ensemble3_pipeline.predict(X_test2)\n",
    "\n",
    "ensemble_MAE3 = mean_absolute_error(y_test2, ensemble_FA_pred3)\n",
    "print('Ensemble -- Mean absolute error:', ensemble_MAE3)"
   ]
  },
  {
   "cell_type": "code",
   "execution_count": 187,
   "id": "d07cf1fe-3915-410e-a8b8-a6b3a33ed108",
   "metadata": {},
   "outputs": [
    {
     "name": "stdout",
     "output_type": "stream",
     "text": [
      "Ensemble -- Mean absolute error: 6277858.943226337\n"
     ]
    }
   ],
   "source": [
    "\n",
    "# Voting Regressor\n",
    "ensemble4 = VotingRegressor(estimators=[\n",
    "    ('LR', LR),\n",
    "    ('DTR', DTR),\n",
    "    ('SVR', SVR),\n",
    "    ('RF', RF)\n",
    "])\n",
    "\n",
    "ensemble4_pipeline = Pipeline([\n",
    "    ('preprocessor', new_preprocessor),\n",
    "    ('ensemble', ensemble4)\n",
    "\n",
    "])\n",
    "\n",
    "ensemble4_pipeline.fit(X_train2, y_train2)\n",
    "\n",
    "ensemble_FA_pred4 = ensemble4_pipeline.predict(X_test2)\n",
    "\n",
    "ensemble_MAE4 = mean_absolute_error(y_test2, ensemble_FA_pred4)\n",
    "print('Ensemble -- Mean absolute error:', ensemble_MAE4)"
   ]
  },
  {
   "cell_type": "markdown",
   "id": "4f233aff-973d-42d5-b12b-ffdfa28c757f",
   "metadata": {},
   "source": [
    "Feeding Models new data (example cases):"
   ]
  },
  {
   "cell_type": "code",
   "execution_count": 218,
   "id": "7804312f-45f3-48ce-973f-0a58cb5e5af2",
   "metadata": {},
   "outputs": [
    {
     "data": {
      "text/html": [
       "<div>\n",
       "<style scoped>\n",
       "    .dataframe tbody tr th:only-of-type {\n",
       "        vertical-align: middle;\n",
       "    }\n",
       "\n",
       "    .dataframe tbody tr th {\n",
       "        vertical-align: top;\n",
       "    }\n",
       "\n",
       "    .dataframe thead th {\n",
       "        text-align: right;\n",
       "    }\n",
       "</style>\n",
       "<table border=\"1\" class=\"dataframe\">\n",
       "  <thead>\n",
       "    <tr style=\"text-align: right;\">\n",
       "      <th></th>\n",
       "      <th>PA</th>\n",
       "      <th>BB%</th>\n",
       "      <th>K%</th>\n",
       "      <th>BB/K</th>\n",
       "      <th>AVG</th>\n",
       "      <th>OBP</th>\n",
       "      <th>SLG</th>\n",
       "      <th>OPS</th>\n",
       "      <th>Spd</th>\n",
       "      <th>BABIP</th>\n",
       "      <th>...</th>\n",
       "      <th>FB%</th>\n",
       "      <th>Events</th>\n",
       "      <th>Med%</th>\n",
       "      <th>GB/FB</th>\n",
       "      <th>GB%</th>\n",
       "      <th>ISO</th>\n",
       "      <th>BUH%</th>\n",
       "      <th>BUH</th>\n",
       "      <th>Player</th>\n",
       "      <th>Predicted Salary</th>\n",
       "    </tr>\n",
       "  </thead>\n",
       "  <tbody>\n",
       "    <tr>\n",
       "      <th>0</th>\n",
       "      <td>1.638220</td>\n",
       "      <td>2.927791</td>\n",
       "      <td>-0.704122</td>\n",
       "      <td>3.528100</td>\n",
       "      <td>0.914205</td>\n",
       "      <td>2.701617</td>\n",
       "      <td>1.918764</td>\n",
       "      <td>2.388817</td>\n",
       "      <td>1.798709</td>\n",
       "      <td>0.203734</td>\n",
       "      <td>...</td>\n",
       "      <td>1.691068</td>\n",
       "      <td>1.947975</td>\n",
       "      <td>0.831793</td>\n",
       "      <td>0.079548</td>\n",
       "      <td>-1.195396</td>\n",
       "      <td>-1.214535</td>\n",
       "      <td>-0.842337</td>\n",
       "      <td>1.403350</td>\n",
       "      <td>Juan Soto</td>\n",
       "      <td>24093818.30</td>\n",
       "    </tr>\n",
       "    <tr>\n",
       "      <th>1</th>\n",
       "      <td>-0.958367</td>\n",
       "      <td>1.078786</td>\n",
       "      <td>0.537878</td>\n",
       "      <td>0.393988</td>\n",
       "      <td>0.442244</td>\n",
       "      <td>1.855958</td>\n",
       "      <td>1.089303</td>\n",
       "      <td>1.470873</td>\n",
       "      <td>1.058841</td>\n",
       "      <td>-0.046111</td>\n",
       "      <td>...</td>\n",
       "      <td>-0.013383</td>\n",
       "      <td>0.405866</td>\n",
       "      <td>1.750162</td>\n",
       "      <td>0.408812</td>\n",
       "      <td>-2.704493</td>\n",
       "      <td>-0.943426</td>\n",
       "      <td>0.026358</td>\n",
       "      <td>0.522893</td>\n",
       "      <td>Joc Pederson</td>\n",
       "      <td>21625688.43</td>\n",
       "    </tr>\n",
       "    <tr>\n",
       "      <th>2</th>\n",
       "      <td>1.392332</td>\n",
       "      <td>0.606140</td>\n",
       "      <td>0.864375</td>\n",
       "      <td>-0.143430</td>\n",
       "      <td>-0.443709</td>\n",
       "      <td>-0.097046</td>\n",
       "      <td>0.286753</td>\n",
       "      <td>0.178711</td>\n",
       "      <td>0.553798</td>\n",
       "      <td>0.288280</td>\n",
       "      <td>...</td>\n",
       "      <td>-0.581533</td>\n",
       "      <td>-0.695640</td>\n",
       "      <td>0.852109</td>\n",
       "      <td>-0.270532</td>\n",
       "      <td>-0.948615</td>\n",
       "      <td>-0.137977</td>\n",
       "      <td>0.473009</td>\n",
       "      <td>-0.314472</td>\n",
       "      <td>Willy Adames</td>\n",
       "      <td>18860416.67</td>\n",
       "    </tr>\n",
       "    <tr>\n",
       "      <th>3</th>\n",
       "      <td>-0.378069</td>\n",
       "      <td>1.126926</td>\n",
       "      <td>0.070563</td>\n",
       "      <td>0.788561</td>\n",
       "      <td>-0.346748</td>\n",
       "      <td>0.803025</td>\n",
       "      <td>-0.591232</td>\n",
       "      <td>-0.153815</td>\n",
       "      <td>-0.522294</td>\n",
       "      <td>0.059048</td>\n",
       "      <td>...</td>\n",
       "      <td>-0.013383</td>\n",
       "      <td>-0.034736</td>\n",
       "      <td>-0.909293</td>\n",
       "      <td>0.359126</td>\n",
       "      <td>0.957053</td>\n",
       "      <td>0.914348</td>\n",
       "      <td>0.038981</td>\n",
       "      <td>-0.560547</td>\n",
       "      <td>Jesse Winker</td>\n",
       "      <td>16042000.07</td>\n",
       "    </tr>\n",
       "    <tr>\n",
       "      <th>4</th>\n",
       "      <td>-2.020607</td>\n",
       "      <td>-0.570291</td>\n",
       "      <td>1.041412</td>\n",
       "      <td>-1.027806</td>\n",
       "      <td>-0.917288</td>\n",
       "      <td>-1.030657</td>\n",
       "      <td>-0.106410</td>\n",
       "      <td>-0.446067</td>\n",
       "      <td>0.325808</td>\n",
       "      <td>-0.985088</td>\n",
       "      <td>...</td>\n",
       "      <td>-0.581533</td>\n",
       "      <td>-0.695640</td>\n",
       "      <td>-0.453555</td>\n",
       "      <td>-0.664138</td>\n",
       "      <td>1.138481</td>\n",
       "      <td>-1.094096</td>\n",
       "      <td>1.177681</td>\n",
       "      <td>-0.349486</td>\n",
       "      <td>Travis d'Arnaud</td>\n",
       "      <td>14045593.07</td>\n",
       "    </tr>\n",
       "    <tr>\n",
       "      <th>5</th>\n",
       "      <td>-0.112509</td>\n",
       "      <td>-0.549823</td>\n",
       "      <td>0.152606</td>\n",
       "      <td>-0.671609</td>\n",
       "      <td>-1.061330</td>\n",
       "      <td>-0.947291</td>\n",
       "      <td>-1.189919</td>\n",
       "      <td>-1.222203</td>\n",
       "      <td>-0.872687</td>\n",
       "      <td>-1.528385</td>\n",
       "      <td>...</td>\n",
       "      <td>-0.581533</td>\n",
       "      <td>-0.695640</td>\n",
       "      <td>-0.894299</td>\n",
       "      <td>0.572910</td>\n",
       "      <td>0.769028</td>\n",
       "      <td>-0.795356</td>\n",
       "      <td>1.688363</td>\n",
       "      <td>-0.947569</td>\n",
       "      <td>Ty France</td>\n",
       "      <td>13154332.32</td>\n",
       "    </tr>\n",
       "    <tr>\n",
       "      <th>6</th>\n",
       "      <td>-2.315673</td>\n",
       "      <td>-1.271199</td>\n",
       "      <td>-0.937107</td>\n",
       "      <td>-0.788159</td>\n",
       "      <td>0.535743</td>\n",
       "      <td>-0.730851</td>\n",
       "      <td>-1.042854</td>\n",
       "      <td>-1.035774</td>\n",
       "      <td>-1.484696</td>\n",
       "      <td>1.118807</td>\n",
       "      <td>...</td>\n",
       "      <td>-0.581533</td>\n",
       "      <td>-0.695640</td>\n",
       "      <td>-0.905372</td>\n",
       "      <td>0.333482</td>\n",
       "      <td>0.971817</td>\n",
       "      <td>-0.319523</td>\n",
       "      <td>2.873776</td>\n",
       "      <td>-2.210181</td>\n",
       "      <td>Kevin Newman</td>\n",
       "      <td>15458220.84</td>\n",
       "    </tr>\n",
       "    <tr>\n",
       "      <th>7</th>\n",
       "      <td>-2.994327</td>\n",
       "      <td>-0.312987</td>\n",
       "      <td>-0.044117</td>\n",
       "      <td>-0.367153</td>\n",
       "      <td>-1.783144</td>\n",
       "      <td>-1.306336</td>\n",
       "      <td>-1.370502</td>\n",
       "      <td>-1.484329</td>\n",
       "      <td>-0.729758</td>\n",
       "      <td>0.045080</td>\n",
       "      <td>...</td>\n",
       "      <td>-0.581533</td>\n",
       "      <td>-0.695640</td>\n",
       "      <td>-0.153874</td>\n",
       "      <td>0.798020</td>\n",
       "      <td>-0.416027</td>\n",
       "      <td>-0.898842</td>\n",
       "      <td>1.423054</td>\n",
       "      <td>-0.666721</td>\n",
       "      <td>Kyle Farmer</td>\n",
       "      <td>12455378.93</td>\n",
       "    </tr>\n",
       "    <tr>\n",
       "      <th>8</th>\n",
       "      <td>-3.289394</td>\n",
       "      <td>1.083440</td>\n",
       "      <td>1.449926</td>\n",
       "      <td>-0.112171</td>\n",
       "      <td>-1.961679</td>\n",
       "      <td>-0.435606</td>\n",
       "      <td>-2.710109</td>\n",
       "      <td>-2.170613</td>\n",
       "      <td>-2.211308</td>\n",
       "      <td>-0.368705</td>\n",
       "      <td>...</td>\n",
       "      <td>1.122918</td>\n",
       "      <td>1.782749</td>\n",
       "      <td>-1.282226</td>\n",
       "      <td>-0.459668</td>\n",
       "      <td>2.106960</td>\n",
       "      <td>-1.502324</td>\n",
       "      <td>1.960670</td>\n",
       "      <td>-0.766186</td>\n",
       "      <td>Austin Slater</td>\n",
       "      <td>21681439.47</td>\n",
       "    </tr>\n",
       "    <tr>\n",
       "      <th>9</th>\n",
       "      <td>-3.938540</td>\n",
       "      <td>-1.497000</td>\n",
       "      <td>2.552692</td>\n",
       "      <td>-1.865079</td>\n",
       "      <td>-4.051675</td>\n",
       "      <td>-4.188735</td>\n",
       "      <td>-3.408303</td>\n",
       "      <td>-4.026036</td>\n",
       "      <td>-2.002832</td>\n",
       "      <td>0.501356</td>\n",
       "      <td>...</td>\n",
       "      <td>0.554768</td>\n",
       "      <td>0.405866</td>\n",
       "      <td>2.290862</td>\n",
       "      <td>-3.000109</td>\n",
       "      <td>-0.768503</td>\n",
       "      <td>-0.542468</td>\n",
       "      <td>2.176171</td>\n",
       "      <td>-1.500109</td>\n",
       "      <td>Austin Hedges</td>\n",
       "      <td>13532779.36</td>\n",
       "    </tr>\n",
       "  </tbody>\n",
       "</table>\n",
       "<p>10 rows × 44 columns</p>\n",
       "</div>"
      ],
      "text/plain": [
       "         PA       BB%        K%      BB/K       AVG       OBP       SLG  \\\n",
       "0  1.638220  2.927791 -0.704122  3.528100  0.914205  2.701617  1.918764   \n",
       "1 -0.958367  1.078786  0.537878  0.393988  0.442244  1.855958  1.089303   \n",
       "2  1.392332  0.606140  0.864375 -0.143430 -0.443709 -0.097046  0.286753   \n",
       "3 -0.378069  1.126926  0.070563  0.788561 -0.346748  0.803025 -0.591232   \n",
       "4 -2.020607 -0.570291  1.041412 -1.027806 -0.917288 -1.030657 -0.106410   \n",
       "5 -0.112509 -0.549823  0.152606 -0.671609 -1.061330 -0.947291 -1.189919   \n",
       "6 -2.315673 -1.271199 -0.937107 -0.788159  0.535743 -0.730851 -1.042854   \n",
       "7 -2.994327 -0.312987 -0.044117 -0.367153 -1.783144 -1.306336 -1.370502   \n",
       "8 -3.289394  1.083440  1.449926 -0.112171 -1.961679 -0.435606 -2.710109   \n",
       "9 -3.938540 -1.497000  2.552692 -1.865079 -4.051675 -4.188735 -3.408303   \n",
       "\n",
       "        OPS       Spd     BABIP  ...       FB%    Events      Med%     GB/FB  \\\n",
       "0  2.388817  1.798709  0.203734  ...  1.691068  1.947975  0.831793  0.079548   \n",
       "1  1.470873  1.058841 -0.046111  ... -0.013383  0.405866  1.750162  0.408812   \n",
       "2  0.178711  0.553798  0.288280  ... -0.581533 -0.695640  0.852109 -0.270532   \n",
       "3 -0.153815 -0.522294  0.059048  ... -0.013383 -0.034736 -0.909293  0.359126   \n",
       "4 -0.446067  0.325808 -0.985088  ... -0.581533 -0.695640 -0.453555 -0.664138   \n",
       "5 -1.222203 -0.872687 -1.528385  ... -0.581533 -0.695640 -0.894299  0.572910   \n",
       "6 -1.035774 -1.484696  1.118807  ... -0.581533 -0.695640 -0.905372  0.333482   \n",
       "7 -1.484329 -0.729758  0.045080  ... -0.581533 -0.695640 -0.153874  0.798020   \n",
       "8 -2.170613 -2.211308 -0.368705  ...  1.122918  1.782749 -1.282226 -0.459668   \n",
       "9 -4.026036 -2.002832  0.501356  ...  0.554768  0.405866  2.290862 -3.000109   \n",
       "\n",
       "        GB%       ISO      BUH%       BUH           Player  Predicted Salary  \n",
       "0 -1.195396 -1.214535 -0.842337  1.403350        Juan Soto       24093818.30  \n",
       "1 -2.704493 -0.943426  0.026358  0.522893     Joc Pederson       21625688.43  \n",
       "2 -0.948615 -0.137977  0.473009 -0.314472     Willy Adames       18860416.67  \n",
       "3  0.957053  0.914348  0.038981 -0.560547     Jesse Winker       16042000.07  \n",
       "4  1.138481 -1.094096  1.177681 -0.349486  Travis d'Arnaud       14045593.07  \n",
       "5  0.769028 -0.795356  1.688363 -0.947569        Ty France       13154332.32  \n",
       "6  0.971817 -0.319523  2.873776 -2.210181     Kevin Newman       15458220.84  \n",
       "7 -0.416027 -0.898842  1.423054 -0.666721      Kyle Farmer       12455378.93  \n",
       "8  2.106960 -1.502324  1.960670 -0.766186    Austin Slater       21681439.47  \n",
       "9 -0.768503 -0.542468  2.176171 -1.500109    Austin Hedges       13532779.36  \n",
       "\n",
       "[10 rows x 44 columns]"
      ]
     },
     "execution_count": 218,
     "metadata": {},
     "output_type": "execute_result"
    }
   ],
   "source": [
    "ten_players = pd.read_csv('ten_players.csv')\n",
    "\n",
    "names = ten_players['Name']\n",
    "\n",
    "ten_players_scaled = preprocessor.transform(ten_players.drop(columns = ['Name']))\n",
    "\n",
    "ten_players_df = pd.DataFrame(ten_players_scaled, columns = ten_players.drop(columns = ['Name']).columns)\n",
    "\n",
    "predicted_salary = RF_pipeline.predict(ten_players_df)\n",
    "\n",
    "ten_players_df['Player'] = names.values\n",
    "\n",
    "ten_players_df['Predicted Salary'] = predicted_salary\n",
    "\n",
    "ten_players_df"
   ]
  },
  {
   "cell_type": "code",
   "execution_count": null,
   "id": "cd79c9a7-0ebd-45d7-b74b-ef29569e4137",
   "metadata": {},
   "outputs": [],
   "source": []
  }
 ],
 "metadata": {
  "kernelspec": {
   "display_name": "Python 3 (ipykernel)",
   "language": "python",
   "name": "python3"
  },
  "language_info": {
   "codemirror_mode": {
    "name": "ipython",
    "version": 3
   },
   "file_extension": ".py",
   "mimetype": "text/x-python",
   "name": "python",
   "nbconvert_exporter": "python",
   "pygments_lexer": "ipython3",
   "version": "3.12.5"
  }
 },
 "nbformat": 4,
 "nbformat_minor": 5
}
